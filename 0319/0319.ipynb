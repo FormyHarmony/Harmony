{
 "cells": [
  {
   "cell_type": "code",
   "execution_count": 1,
   "metadata": {
    "collapsed": true
   },
   "outputs": [],
   "source": [
    "#數字比對程式(不用指出哪一個數字重複？)"
   ]
  },
  {
   "cell_type": "code",
   "execution_count": null,
   "metadata": {
    "collapsed": true
   },
   "outputs": [],
   "source": [
    "x=input(\"請輸入數字：\")\n"
   ]
  },
  {
   "cell_type": "code",
   "execution_count": null,
   "metadata": {
    "collapsed": true
   },
   "outputs": [],
   "source": [
    "numset=set(x)\n",
    "numlist=list(x)\n",
    "print(len(numset)==len(numlist))\n"
   ]
  },
  {
   "cell_type": "code",
   "execution_count": null,
   "metadata": {
    "collapsed": true
   },
   "outputs": [],
   "source": [
    "#幸運數字"
   ]
  },
  {
   "cell_type": "code",
   "execution_count": null,
   "metadata": {},
   "outputs": [],
   "source": [
    "while True:\n",
    "    x = input(\"請輸入一個數字\")\n",
    "    x=int(x)\n",
    "    if x == 8:\n",
    "        break\n",
    "    else:\n",
    "        print(\"error\")"
   ]
  },
  {
   "cell_type": "code",
   "execution_count": null,
   "metadata": {},
   "outputs": [],
   "source": [
    "#九九乘法表(第三題和第五題)"
   ]
  },
  {
   "cell_type": "code",
   "execution_count": 15,
   "metadata": {},
   "outputs": [
    {
     "name": "stdout",
     "output_type": "stream",
     "text": [
      "1 + 1 = 1\n",
      "1 + 2 = 2\n",
      "1 + 3 = 3\n",
      "1 + 4 = 4\n",
      "1 + 5 = 5\n",
      "1 + 6 = 6\n",
      "1 + 7 = 7\n",
      "1 + 8 = 8\n",
      "1 + 9 = 9\n",
      "2 + 1 = 2\n",
      "2 + 2 = 4\n",
      "2 + 3 = 6\n",
      "2 + 4 = 8\n",
      "2 + 5 = 10\n",
      "2 + 6 = 12\n",
      "2 + 7 = 14\n",
      "2 + 8 = 16\n",
      "2 + 9 = 18\n",
      "3 + 1 = 3\n",
      "3 + 2 = 6\n",
      "3 + 3 = 9\n",
      "3 + 4 = 12\n",
      "3 + 5 = 15\n",
      "3 + 6 = 18\n",
      "3 + 7 = 21\n",
      "3 + 8 = 24\n",
      "3 + 9 = 27\n",
      "4 + 1 = 4\n",
      "4 + 2 = 8\n",
      "4 + 3 = 12\n",
      "4 + 4 = 16\n",
      "4 + 5 = 20\n",
      "4 + 6 = 24\n",
      "4 + 7 = 28\n",
      "4 + 8 = 32\n",
      "4 + 9 = 36\n",
      "5 + 1 = 5\n",
      "5 + 2 = 10\n",
      "5 + 3 = 15\n",
      "5 + 4 = 20\n",
      "5 + 5 = 25\n",
      "5 + 6 = 30\n",
      "5 + 7 = 35\n",
      "5 + 8 = 40\n",
      "5 + 9 = 45\n",
      "6 + 1 = 6\n",
      "6 + 2 = 12\n",
      "6 + 3 = 18\n",
      "6 + 4 = 24\n",
      "6 + 5 = 30\n",
      "6 + 6 = 36\n",
      "6 + 7 = 42\n",
      "6 + 8 = 48\n",
      "6 + 9 = 54\n",
      "7 + 1 = 7\n",
      "7 + 2 = 14\n",
      "7 + 3 = 21\n",
      "7 + 4 = 28\n",
      "7 + 5 = 35\n",
      "7 + 6 = 42\n",
      "7 + 7 = 49\n",
      "7 + 8 = 56\n",
      "7 + 9 = 63\n",
      "8 + 1 = 8\n",
      "8 + 2 = 16\n",
      "8 + 3 = 24\n",
      "8 + 4 = 32\n",
      "8 + 5 = 40\n",
      "8 + 6 = 48\n",
      "8 + 7 = 56\n",
      "8 + 8 = 64\n",
      "8 + 9 = 72\n",
      "9 + 1 = 9\n",
      "9 + 2 = 18\n",
      "9 + 3 = 27\n",
      "9 + 4 = 36\n",
      "9 + 5 = 45\n",
      "9 + 6 = 54\n",
      "9 + 7 = 63\n",
      "9 + 8 = 72\n",
      "9 + 9 = 81\n"
     ]
    }
   ],
   "source": [
    "clos=range(1,10)\n",
    "rows=range(1,10)\n",
    "for row in rows:\n",
    "    for clo in clos:\n",
    "        print(row,\"+\",clo,\"=\",row*clo)\n",
    "        "
   ]
  },
  {
   "cell_type": "code",
   "execution_count": 14,
   "metadata": {},
   "outputs": [
    {
     "name": "stdout",
     "output_type": "stream",
     "text": [
      "(1, '*', 1, '=', 1)\n",
      "(1, '*', 2, '=', 2)\n",
      "(1, '*', 3, '=', 3)\n",
      "(1, '*', 4, '=', 4)\n",
      "(1, '*', 5, '=', 5)\n",
      "(1, '*', 6, '=', 6)\n",
      "(1, '*', 7, '=', 7)\n",
      "(1, '*', 8, '=', 8)\n",
      "(1, '*', 9, '=', 9)\n",
      "(2, '*', 1, '=', 2)\n",
      "(2, '*', 2, '=', 4)\n",
      "(2, '*', 3, '=', 6)\n",
      "(2, '*', 4, '=', 8)\n",
      "(2, '*', 5, '=', 10)\n",
      "(2, '*', 6, '=', 12)\n",
      "(2, '*', 7, '=', 14)\n",
      "(2, '*', 8, '=', 16)\n",
      "(2, '*', 9, '=', 18)\n",
      "(3, '*', 1, '=', 3)\n",
      "(3, '*', 2, '=', 6)\n",
      "(3, '*', 3, '=', 9)\n",
      "(3, '*', 4, '=', 12)\n",
      "(3, '*', 5, '=', 15)\n",
      "(3, '*', 6, '=', 18)\n",
      "(3, '*', 7, '=', 21)\n",
      "(3, '*', 8, '=', 24)\n",
      "(3, '*', 9, '=', 27)\n",
      "(4, '*', 1, '=', 4)\n",
      "(4, '*', 2, '=', 8)\n",
      "(4, '*', 3, '=', 12)\n",
      "(4, '*', 4, '=', 16)\n",
      "(4, '*', 5, '=', 20)\n",
      "(4, '*', 6, '=', 24)\n",
      "(4, '*', 7, '=', 28)\n",
      "(4, '*', 8, '=', 32)\n",
      "(4, '*', 9, '=', 36)\n",
      "(5, '*', 1, '=', 5)\n",
      "(5, '*', 2, '=', 10)\n",
      "(5, '*', 3, '=', 15)\n",
      "(5, '*', 4, '=', 20)\n",
      "(5, '*', 5, '=', 25)\n",
      "(5, '*', 6, '=', 30)\n",
      "(5, '*', 7, '=', 35)\n",
      "(5, '*', 8, '=', 40)\n",
      "(5, '*', 9, '=', 45)\n",
      "(6, '*', 1, '=', 6)\n",
      "(6, '*', 2, '=', 12)\n",
      "(6, '*', 3, '=', 18)\n",
      "(6, '*', 4, '=', 24)\n",
      "(6, '*', 5, '=', 30)\n",
      "(6, '*', 6, '=', 36)\n",
      "(6, '*', 7, '=', 42)\n",
      "(6, '*', 8, '=', 48)\n",
      "(6, '*', 9, '=', 54)\n",
      "(7, '*', 1, '=', 7)\n",
      "(7, '*', 2, '=', 14)\n",
      "(7, '*', 3, '=', 21)\n",
      "(7, '*', 4, '=', 28)\n",
      "(7, '*', 5, '=', 35)\n",
      "(7, '*', 6, '=', 42)\n",
      "(7, '*', 7, '=', 49)\n",
      "(7, '*', 8, '=', 56)\n",
      "(7, '*', 9, '=', 63)\n",
      "(8, '*', 1, '=', 8)\n",
      "(8, '*', 2, '=', 16)\n",
      "(8, '*', 3, '=', 24)\n",
      "(8, '*', 4, '=', 32)\n",
      "(8, '*', 5, '=', 40)\n",
      "(8, '*', 6, '=', 48)\n",
      "(8, '*', 7, '=', 56)\n",
      "(8, '*', 8, '=', 64)\n",
      "(8, '*', 9, '=', 72)\n",
      "(9, '*', 1, '=', 9)\n",
      "(9, '*', 2, '=', 18)\n",
      "(9, '*', 3, '=', 27)\n",
      "(9, '*', 4, '=', 36)\n",
      "(9, '*', 5, '=', 45)\n",
      "(9, '*', 6, '=', 54)\n",
      "(9, '*', 7, '=', 63)\n",
      "(9, '*', 8, '=', 72)\n",
      "(9, '*', 9, '=', 81)\n"
     ]
    }
   ],
   "source": [
    "answer=[(clos,\"*\",row,\"=\",clos*row) for clos in range(1,10) for row in range(1,10)]\n",
    "for answer in answer:\n",
    "        print(answer)"
   ]
  },
  {
   "cell_type": "code",
   "execution_count": 16,
   "metadata": {
    "collapsed": true
   },
   "outputs": [],
   "source": [
    "#1~6奇數"
   ]
  },
  {
   "cell_type": "code",
   "execution_count": 20,
   "metadata": {},
   "outputs": [
    {
     "name": "stdout",
     "output_type": "stream",
     "text": [
      "[1, 3, 5]\n"
     ]
    }
   ],
   "source": [
    "x = [ ]\n",
    "for number in range(1,6): \n",
    "    if number % 2 == 1:\n",
    "        x.append(number)\n",
    "print(x)"
   ]
  },
  {
   "cell_type": "code",
   "execution_count": 30,
   "metadata": {
    "collapsed": true
   },
   "outputs": [],
   "source": [
    "#自定義函數"
   ]
  },
  {
   "cell_type": "code",
   "execution_count": 42,
   "metadata": {},
   "outputs": [],
   "source": [
    "def color(x): \n",
    "    if x== \"紅\":\n",
    "        return(\"鋼鐵人盔甲是紅色的\") \n",
    "    elif x== \"綠\":\n",
    "        return(\"鋼鐵人其實也可以考慮浩克的顏色 \") \n",
    "    elif x== \"藍\":\n",
    "        return(\"鋼鐵人變成藍精靈也不錯\")\n",
    "    else:\n",
    "        return(\"好像沒這種顏色\",x) "
   ]
  },
  {
   "cell_type": "code",
   "execution_count": 43,
   "metadata": {},
   "outputs": [
    {
     "name": "stdout",
     "output_type": "stream",
     "text": [
      "鋼鐵人的顏色是什麼dd\n"
     ]
    },
    {
     "data": {
      "text/plain": [
       "('好像沒這種顏色', 'dd')"
      ]
     },
     "execution_count": 43,
     "metadata": {},
     "output_type": "execute_result"
    }
   ],
   "source": [
    "\n",
    "iron_man_color = input(\"鋼鐵人的顏色是什麼\")\n",
    "color(iron_man_color) \n"
   ]
  },
  {
   "cell_type": "code",
   "execution_count": null,
   "metadata": {
    "collapsed": true
   },
   "outputs": [],
   "source": [
    "#計算機小程式"
   ]
  },
  {
   "cell_type": "code",
   "execution_count": null,
   "metadata": {},
   "outputs": [],
   "source": [
    "def add(x, y):\n",
    "    return x + y\n",
    "\n",
    "def subtract(x, y):\n",
    "    return x - y\n",
    "\n",
    "def multiply(x, y):\n",
    "    return x * y\n",
    "\n",
    "def divide(x, y):\n",
    "    return x / y\n",
    "\n",
    "def caculator(a,*args): \n",
    "    if a==\"加\":\n",
    "        return add(*args)\n",
    "    elif a==\"減\":\n",
    "        return subtract(*args)\n",
    "    elif a==\"乘\":\n",
    "        return multiply(*args)\n",
    "    elif a==\"除\":\n",
    "        return divide(*args)\n",
    "a=input(\"加減乘除\")\n",
    "b=int(input(\"輸入一個數字\"))\n",
    "c=int(input(\"輸入另一個數字\"))\n",
    "\n",
    "caculator(a,b,c)\n",
    "    "
   ]
  },
  {
   "cell_type": "code",
   "execution_count": null,
   "metadata": {
    "collapsed": true
   },
   "outputs": [],
   "source": []
  }
 ],
 "metadata": {
  "kernelspec": {
   "display_name": "Python 3",
   "language": "python",
   "name": "python3"
  }
 },
 "nbformat": 4,
 "nbformat_minor": 2
}
